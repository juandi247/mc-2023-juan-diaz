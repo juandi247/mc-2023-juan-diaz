{
  "nbformat": 4,
  "nbformat_minor": 0,
  "metadata": {
    "colab": {
      "provenance": [],
      "authorship_tag": "ABX9TyMgrS96ugCg4cwACCA0/E8X",
      "include_colab_link": true
    },
    "kernelspec": {
      "name": "python3",
      "display_name": "Python 3"
    },
    "language_info": {
      "name": "python"
    }
  },
  "cells": [
    {
      "cell_type": "markdown",
      "metadata": {
        "id": "view-in-github",
        "colab_type": "text"
      },
      "source": [
        "<a href=\"https://colab.research.google.com/github/juandi247/mc-2023-juan-diaz/blob/main/taller24.ipynb\" target=\"_parent\"><img src=\"https://colab.research.google.com/assets/colab-badge.svg\" alt=\"Open In Colab\"/></a>"
      ]
    },
    {
      "cell_type": "code",
      "execution_count": null,
      "metadata": {
        "colab": {
          "base_uri": "https://localhost:8080/",
          "height": 631
        },
        "id": "FgoJzNQhnmF9",
        "outputId": "8e438ef5-afb0-4551-8341-f835ea4f2f42"
      },
      "outputs": [
        {
          "output_type": "stream",
          "name": "stdout",
          "text": [
            "    valores de fi:  [ 3  5  6  5 -2  2 13]\n",
            "divisores en L(i):  [ 720. -120.   48.  -36.   48. -120.  720.]\n",
            "\n",
            "Polinomio de Lagrange, expresiones\n",
            "-x*(x - 6)*(x - 5)*(x - 4)*(x - 3)*(x - 2)/24 + x*(x - 6)*(x - 5)*(x - 4)*(x - 3)*(x - 1)/8 - 5*x*(x - 6)*(x - 5)*(x - 4)*(x - 2)*(x - 1)/36 - x*(x - 6)*(x - 5)*(x - 3)*(x - 2)*(x - 1)/24 - x*(x - 6)*(x - 4)*(x - 3)*(x - 2)*(x - 1)/60 + 13*x*(x - 5)*(x - 4)*(x - 3)*(x - 2)*(x - 1)/720 + (x - 6)*(x - 5)*(x - 4)*(x - 3)*(x - 2)*(x - 1)/240\n",
            "\n",
            "Polinomio de Lagrange: \n",
            "-11*x**6/120 + 63*x**5/40 - 119*x**4/12 + 677*x**3/24 - 4379*x**2/120 + 1123*x/60 + 3\n"
          ]
        },
        {
          "output_type": "display_data",
          "data": {
            "text/plain": [
              "<Figure size 640x480 with 1 Axes>"
            ],
            "image/png": "[encoded data removed]"
          },
          "metadata": {}
        }
      ],
      "source": [
        "\n",
        "import numpy as np\n",
        "import sympy as sym\n",
        "import matplotlib.pyplot as plt\n",
        "\n",
        "xi = np.array([0, 1, 2, 3,4,5,6])\n",
        "fi = np.array([3,5,6,5,-2,2,13])\n",
        "\n",
        "\n",
        "n = len(xi)\n",
        "x = sym.Symbol('x')\n",
        "polinomio = 0\n",
        "divisorL = np.zeros(n, dtype = float)\n",
        "for i in range(0,n,1):\n",
        "    \n",
        "\n",
        "    numerador = 1\n",
        "    denominador = 1\n",
        "    for j  in range(0,n,1):\n",
        "        if (j!=i):\n",
        "            numerador = numerador*(x-xi[j])\n",
        "            denominador = denominador*(xi[i]-xi[j])\n",
        "    terminoLi = numerador/denominador\n",
        "\n",
        "    polinomio = polinomio + terminoLi*fi[i]\n",
        "    divisorL[i] = denominador\n",
        "\n",
        "\n",
        "polisimple = polinomio.expand()\n",
        "\n",
        "px = sym.lambdify(x,polisimple)\n",
        "\n",
        "\n",
        "muestras = 101\n",
        "a = np.min(xi)\n",
        "b = np.max(xi)\n",
        "pxi = np.linspace(a,b,muestras)\n",
        "pfi = px(pxi)\n",
        "\n",
        "\n",
        "print('    valores de fi: ',fi)\n",
        "print('divisores en L(i): ',divisorL)\n",
        "print()\n",
        "print('Polinomio de Lagrange, expresiones')\n",
        "print(polinomio)\n",
        "print()\n",
        "print('Polinomio de Lagrange: ')\n",
        "print(polisimple)\n",
        "\n",
        "# Gráfica\n",
        "plt.plot(xi,fi,'o', label = 'Puntos')\n",
        "plt.plot(pxi,pfi, label = 'Polinomio')\n",
        "plt.legend()\n",
        "plt.xlabel('xi')\n",
        "plt.ylabel('fi')\n",
        "plt.title('Interpolación Lagrange')\n",
        "plt.show()\n",
        "     \n"
      ]
    },
    {
      "cell_type": "code",
      "source": [
        "import copy\n",
        "import math\n",
        "\n",
        "def gaussJordan(a, b):\n",
        "  aAux = copy.deepcopy(a)\n",
        "  bAux = b.copy()\n",
        "\n",
        "  n = len(bAux)\n",
        "\n",
        "  #Se construye la matriz triangular superior\n",
        "  for i in range(n):\n",
        "    #Pivoteo\n",
        "    if aAux[i][i] == 0:\n",
        "      for k in range(i + 1, n):\n",
        "        if aAux[k][i] != 0:\n",
        "          filaAux = aAux[i]\n",
        "          aAux[i] = aAux[k]\n",
        "          aAux[k] = filaAux\n",
        "\n",
        "          valoAux = bAux[i]\n",
        "          bAux[i] = bAux[k]\n",
        "          bAux[k] = valoAux\n",
        "          break\n",
        "\n",
        "    #Escalonamiento\n",
        "    valorAux = aAux[i][i]\n",
        "    for j in range(i, n):\n",
        "      aAux[i][j] /= valorAux\n",
        "    bAux[i] /= valorAux\n",
        "\n",
        "    #Reducción\n",
        "    for j in range(n):\n",
        "      if j != i:\n",
        "        fact = aAux[j][i] / aAux[i][i]\n",
        "\n",
        "        for k in range(n):\n",
        "          aAux[j][k] -= (aAux[i][k] * fact)\n",
        "        bAux[j] -= (bAux[i] * fact)\n",
        "        \n",
        "  return bAux\n",
        "\n",
        "x = [0, 1, 2, 3, 4,5,6]\n",
        "y = [3,5,6,5,-2,2,13]\n",
        "\n",
        "n = len(x)\n",
        "\n",
        "#se crea la matriz de los trazadores\n",
        "a = []\n",
        "b = [0] * (n - 2)\n",
        "for i in range(n - 2):\n",
        "  a.append(b.copy())\n",
        "        \n",
        "for i in range(1, n - 1):\n",
        "  if i > 1:\n",
        "    a[i - 1][i - 2] = x[i] - x[i - 1]\n",
        "  a[i - 1][i - 1] = 2 * (x[i + 1] - x[i - 1])\n",
        "  if i < n - 2:\n",
        "    a[i - 1][i] = x[i + 1] - x[i]\n",
        "  b[i - 1] = (6 / (x[i + 1] - x[i])) * (y[i + 1] - y[i]) + (6 / (x[i] - x[i - 1]) * (y[i - 1] - y[i]))\n",
        "\n",
        "rtaAux = gaussJordan(a, b)\n",
        "f2 = [0] + rtaAux + [0]\n",
        "\n",
        "for i in range(1, n):\n",
        "  t1 = f2[i - 1] / (6 * (x[i] - x[i - 1]))\n",
        "  t2 = f2[i] / (6 * (x[i] - x[i - 1]))\n",
        "  t3 = y[i - 1] / (x[i] - x[i - 1]) - f2[i - 1] * (x[i] - x[i - 1]) / 6\n",
        "  t4 = y[i] / (x[i] - x[i - 1]) - f2[i] * (x[i] - x[i - 1]) / 6\n",
        "\n",
        "  arrCoef = [0] * 4\n",
        "\n",
        "  #Se calculan los coeficientes del polinomio\n",
        "  arrCoef[0] = t1 * math.pow(x[i], 3) - t2 * math.pow(x[i - 1], 3) + t3 * x[i] - t4 * x[i - 1]\n",
        "  arrCoef[1] = -t1 * 3 * math.pow(x[i], 2) + t2 * 3 * math.pow(x[i - 1], 2) - t3 + t4\n",
        "  arrCoef[2] = t1 * 3 * x[i] - t2 * 3 * x[i - 1]\n",
        "  arrCoef[3] = -t1 + t2\n",
        "\n",
        "  print(\"f(x) = \", end=\"\")\n",
        "  for j in range(4):\n",
        "    if arrCoef[j] != 0:\n",
        "      if j > 0:\n",
        "        print(\"+ \", end=\"\")\n",
        "      print(arrCoef[j], end=\"\")\n",
        "      if j == 0:\n",
        "        print(\" \", end=\"\")\n",
        "      elif j == 1:\n",
        "        print(\"x \", end=\"\")\n",
        "      else:\n",
        "        print(\"x^\" + str(j) + \" \", end=\"\")\n",
        "\n",
        "  print(\"{x>=\" + str(x[i - 1]) + \"}{x<\" + str(x[i]) + \"}\")"
      ],
      "metadata": {
        "colab": {
          "base_uri": "https://localhost:8080/"
        },
        "id": "Bxx3RdRxpCEB",
        "outputId": "5ef3351e-4604-419c-ab90-fb1babe2bb1c"
      },
      "execution_count": 3,
      "outputs": [
        {
          "output_type": "stream",
          "name": "stdout",
          "text": [
            "f(x) = 3.0 + 2.287179487179487x + -0.2871794871794872x^3 {x>=0}{x<1}\n",
            "f(x) = 2.276923076923077 + 4.456410256410257x + -2.1692307692307695x^2 + 0.435897435897436x^3 {x>=1}{x<2}\n",
            "f(x) = 25.415384615384614 + -30.251282051282054x + 15.184615384615386x^2 + -2.4564102564102566x^3 {x>=2}{x<3}\n",
            "f(x) = -186.43076923076924 + 181.59487179487178x + -55.43076923076923x^2 + 5.38974358974359x^3 {x>=3}{x<4}\n",
            "f(x) = 293.07692307692304 + -178.03589743589743x + 34.47692307692307x^2 + -2.102564102564102x^3 {x>=4}{x<5}\n",
            "f(x) = 152.6923076923077 + -93.80512820512821x + 17.630769230769232x^2 + -0.9794871794871796x^3 {x>=5}{x<6}\n"
          ]
        }
      ]
    },
    {
      "cell_type": "markdown",
      "source": [
        "Reemplazando en\n",
        "Lagrange= 3.4169616699218324-----------------------------------\n",
        "Trazado de cubos:3.252390625"
      ],
      "metadata": {
        "id": "HmmdDJSopPfW"
      }
    },
    {
      "cell_type": "code",
      "source": [],
      "metadata": {
        "id": "78vIkHm-pv5a"
      },
      "execution_count": null,
      "outputs": []
    }
  ]
}