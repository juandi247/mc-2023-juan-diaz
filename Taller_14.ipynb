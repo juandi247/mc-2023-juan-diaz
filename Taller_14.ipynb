{
  "nbformat": 4,
  "nbformat_minor": 0,
  "metadata": {
    "colab": {
      "provenance": [],
      "authorship_tag": "ABX9TyOBETIom6TI40R+0YOuzrUK",
      "include_colab_link": true
    },
    "kernelspec": {
      "name": "python3",
      "display_name": "Python 3"
    },
    "language_info": {
      "name": "python"
    }
  },
  "cells": [
    {
      "cell_type": "markdown",
      "metadata": {
        "id": "view-in-github",
        "colab_type": "text"
      },
      "source": [
        "<a href=\"https://colab.research.google.com/github/juandi247/mc-2023-juan-diaz/blob/main/Taller_14.ipynb\" target=\"_parent\"><img src=\"https://colab.research.google.com/assets/colab-badge.svg\" alt=\"Open In Colab\"/></a>"
      ]
    },
    {
      "cell_type": "code",
      "execution_count": 1,
      "metadata": {
        "colab": {
          "base_uri": "https://localhost:8080/",
          "height": 617
        },
        "id": "ROfls039KeAv",
        "outputId": "a309b162-d7f3-411c-aeee-c62c8750415a"
      },
      "outputs": [
        {
          "output_type": "stream",
          "name": "stdout",
          "text": [
            "Matriz inicial\n",
            "1 1 0 | 2.5\n",
            "3 3 4 | 11.5\n",
            "4 1 0 | 15\n",
            "\n",
            "División\n",
            "1.0 1.0 0.0 | 2.5\n",
            "3 3 4 | 11.5\n",
            "4 1 0 | 15\n",
            "\n",
            "Reducción\n",
            "1.0 1.0 0.0 | 2.5\n",
            "0.0 0.0 4.0 | 4.0\n",
            "0.0 -3.0 0.0 | 5.0\n",
            "\n"
          ]
        },
        {
          "output_type": "error",
          "ename": "ZeroDivisionError",
          "evalue": "ignored",
          "traceback": [
            "\u001b[0;31m---------------------------------------------------------------------------\u001b[0m",
            "\u001b[0;31mZeroDivisionError\u001b[0m                         Traceback (most recent call last)",
            "\u001b[0;32m<ipython-input-1-376ccdc5f404>\u001b[0m in \u001b[0;36m<module>\u001b[0;34m\u001b[0m\n\u001b[1;32m     39\u001b[0m \u001b[0ma\u001b[0m \u001b[0;34m=\u001b[0m \u001b[0;34m[\u001b[0m\u001b[0;34m[\u001b[0m\u001b[0;36m1\u001b[0m\u001b[0;34m,\u001b[0m \u001b[0;36m1\u001b[0m\u001b[0;34m,\u001b[0m \u001b[0;36m0\u001b[0m\u001b[0;34m]\u001b[0m\u001b[0;34m,\u001b[0m \u001b[0;34m[\u001b[0m\u001b[0;36m3\u001b[0m\u001b[0;34m,\u001b[0m \u001b[0;36m3\u001b[0m\u001b[0;34m,\u001b[0m \u001b[0;36m4\u001b[0m\u001b[0;34m]\u001b[0m\u001b[0;34m,\u001b[0m \u001b[0;34m[\u001b[0m\u001b[0;36m4\u001b[0m\u001b[0;34m,\u001b[0m \u001b[0;36m1\u001b[0m\u001b[0;34m,\u001b[0m \u001b[0;36m0\u001b[0m\u001b[0;34m]\u001b[0m\u001b[0;34m]\u001b[0m\u001b[0;34m\u001b[0m\u001b[0;34m\u001b[0m\u001b[0m\n\u001b[1;32m     40\u001b[0m \u001b[0mb\u001b[0m \u001b[0;34m=\u001b[0m \u001b[0;34m[\u001b[0m\u001b[0;36m2.5\u001b[0m\u001b[0;34m,\u001b[0m \u001b[0;36m11.5\u001b[0m\u001b[0;34m,\u001b[0m \u001b[0;36m15\u001b[0m\u001b[0;34m]\u001b[0m\u001b[0;34m\u001b[0m\u001b[0;34m\u001b[0m\u001b[0m\n\u001b[0;32m---> 41\u001b[0;31m \u001b[0mx\u001b[0m \u001b[0;34m=\u001b[0m \u001b[0mgaussJordan\u001b[0m\u001b[0;34m(\u001b[0m\u001b[0ma\u001b[0m\u001b[0;34m,\u001b[0m \u001b[0mb\u001b[0m\u001b[0;34m)\u001b[0m\u001b[0;34m\u001b[0m\u001b[0;34m\u001b[0m\u001b[0m\n\u001b[0m\u001b[1;32m     42\u001b[0m \u001b[0;34m\u001b[0m\u001b[0m\n\u001b[1;32m     43\u001b[0m \u001b[0mprint\u001b[0m\u001b[0;34m(\u001b[0m\u001b[0;34m\"Respuesta:\"\u001b[0m\u001b[0;34m)\u001b[0m\u001b[0;34m\u001b[0m\u001b[0;34m\u001b[0m\u001b[0m\n",
            "\u001b[0;32m<ipython-input-1-376ccdc5f404>\u001b[0m in \u001b[0;36mgaussJordan\u001b[0;34m(ao, bo)\u001b[0m\n\u001b[1;32m     21\u001b[0m         \u001b[0;31m#Dividir por el pivote\u001b[0m\u001b[0;34m\u001b[0m\u001b[0;34m\u001b[0m\u001b[0m\n\u001b[1;32m     22\u001b[0m         \u001b[0;32mfor\u001b[0m \u001b[0mj\u001b[0m \u001b[0;32min\u001b[0m \u001b[0mrange\u001b[0m\u001b[0;34m(\u001b[0m\u001b[0mn\u001b[0m\u001b[0;34m)\u001b[0m\u001b[0;34m:\u001b[0m\u001b[0;34m\u001b[0m\u001b[0;34m\u001b[0m\u001b[0m\n\u001b[0;32m---> 23\u001b[0;31m             \u001b[0ma\u001b[0m\u001b[0;34m[\u001b[0m\u001b[0mi\u001b[0m\u001b[0;34m]\u001b[0m\u001b[0;34m[\u001b[0m\u001b[0mj\u001b[0m\u001b[0;34m]\u001b[0m \u001b[0;34m/=\u001b[0m \u001b[0mpivote\u001b[0m\u001b[0;34m\u001b[0m\u001b[0;34m\u001b[0m\u001b[0m\n\u001b[0m\u001b[1;32m     24\u001b[0m         \u001b[0mb\u001b[0m\u001b[0;34m[\u001b[0m\u001b[0mi\u001b[0m\u001b[0;34m]\u001b[0m \u001b[0;34m/=\u001b[0m \u001b[0mpivote\u001b[0m\u001b[0;34m\u001b[0m\u001b[0;34m\u001b[0m\u001b[0m\n\u001b[1;32m     25\u001b[0m         \u001b[0mimprimirSistema\u001b[0m\u001b[0;34m(\u001b[0m\u001b[0ma\u001b[0m\u001b[0;34m,\u001b[0m \u001b[0mb\u001b[0m\u001b[0;34m,\u001b[0m \u001b[0;34m\"División\"\u001b[0m\u001b[0;34m)\u001b[0m\u001b[0;34m\u001b[0m\u001b[0;34m\u001b[0m\u001b[0m\n",
            "\u001b[0;31mZeroDivisionError\u001b[0m: float division by zero"
          ]
        }
      ],
      "source": [
        "import copy\n",
        "\n",
        "def imprimirSistema(a, b, etiqueta):\n",
        "    n = len(b)\n",
        "import copy\n",
        "\n",
        "def imprimirSistema(a, b, etiqueta):\n",
        "    n = len(b)\n",
        "    print(etiqueta)\n",
        "    for i in range(n):\n",
        "        for j in range(n):\n",
        "            print(a[i][j], end = \" \")\n",
        "        print(\"|\", b[i])\n",
        "    print()\n",
        "\n",
        "def CambioFila(a, i, j):\n",
        "    temp = a[i]\n",
        "    a[i] = a[j]\n",
        "    a[j] = temp\n",
        "\n",
        "def gaussJordan(ao, bo):\n",
        "    a = copy.deepcopy(ao)\n",
        "    b = copy.copy(bo)\n",
        "\n",
        "    n = len(b)\n",
        "    imprimirSistema(a, b, \"Matriz inicial\")\n",
        "    for i in range(n):\n",
        "      # correccion del pivoteo dividido por 0\n",
        "        if a[i][i] == 0:\n",
        "            for j in range(i+1, n):\n",
        "                if a[j][i] != 0:\n",
        "                    CambioFila(a, i, j)\n",
        "                    CambioFila(b, i, j)\n",
        "                    break\n",
        "            imprimirSistema(a, b, \"PIVOTEO\")\n",
        "        pivote = a[i][i]\n",
        "        # Dividir por el pivote\n",
        "        for j in range(n):\n",
        "            a[i][j] /= pivote\n",
        "        b[i] /= pivote\n",
        "        imprimirSistema(a, b, \"División\")\n",
        "        for k in range(n):\n",
        "            if i != k:\n",
        "                #Se reduce\n",
        "                valorAux = -a[k][i]\n",
        "                for j in range(n):\n",
        "                    a[k][j] += a[i][j] * valorAux\n",
        "                b[k] += b[i] * valorAux\n",
        "        imprimirSistema(a, b, \"Reducción\")\n",
        "    \n",
        "    return b\n",
        "\n",
        "a = [[1, 1, 0], [3, 3, 4], [4, 1, 0]]\n",
        "b = [2.5, 11.5, 15]\n",
        "x = gaussJordan(a, b)\n",
        "\n",
        "print(\"Respuesta:\")\n",
        "for i in range(len(x)):\n",
        "    print(\"x\" + str(i+1), \"=\", x[i])\n",
        "\n",
        "#Pruebas\n",
        "print(\"\\nPruebas:\")\n",
        "for i in range(len(b)):\n",
        "    valorAux = b[i]\n",
        "    for j in range(len(b)):\n",
        "        valorAux -= a[i][j] * x[j]\n",
        "    print(\"Test\", i + 1, \"=\", valorAux)"
      ]
    }
  ]
}