{
  "nbformat": 4,
  "nbformat_minor": 0,
  "metadata": {
    "colab": {
      "provenance": [],
      "authorship_tag": "ABX9TyPruOdmPc8f26YGeCm+d5UM",
      "include_colab_link": true
    },
    "kernelspec": {
      "name": "python3",
      "display_name": "Python 3"
    },
    "language_info": {
      "name": "python"
    }
  },
  "cells": [
    {
      "cell_type": "markdown",
      "metadata": {
        "id": "view-in-github",
        "colab_type": "text"
      },
      "source": [
        "<a href=\"https://colab.research.google.com/github/juandi247/mc-2023-juan-diaz/blob/main/taller_15.ipynb\" target=\"_parent\"><img src=\"https://colab.research.google.com/assets/colab-badge.svg\" alt=\"Open In Colab\"/></a>"
      ]
    },
    {
      "cell_type": "code",
      "execution_count": 1,
      "metadata": {
        "colab": {
          "base_uri": "https://localhost:8080/"
        },
        "id": "59l4TCrJn96O",
        "outputId": "61b8318a-a26f-4ec7-95ef-8b70a6030f65"
      },
      "outputs": [
        {
          "output_type": "stream",
          "name": "stdout",
          "text": [
            "[[ 1.  -2.   4. ]\n",
            " [-1.5  4.  -7.5]\n",
            " [ 0.5 -1.   1.5]]\n",
            "\n",
            "\n",
            "[[ 3.33333333e-01  6.66666667e-01 -6.66666667e-01 -1.38777878e-17]\n",
            " [-6.66666667e-02 -1.33333333e-01  3.33333333e-01  2.00000000e-01]\n",
            " [ 2.66666667e-01  5.33333333e-01 -1.33333333e+00  2.00000000e-01]\n",
            " [ 2.00000000e-01 -1.00000000e-01  0.00000000e+00 -1.00000000e-01]]\n"
          ]
        }
      ],
      "source": [
        "import numpy as np\n",
        "\n",
        "# INGRESO\n",
        "A = np.array([[3,2,2],\n",
        "              [3,1,-3],\n",
        "              [1,0,-2]], dtype=float)\n",
        "\n",
        "\n",
        "\n",
        "B=np.array([[1,2,0,4],\n",
        "            [2,0,-1,-2],\n",
        "            [1,1,-1,0],\n",
        "            [0,4,1,0]], dtype=float)\n",
        "\n",
        "\n",
        "def gaussjordan(A):\n",
        "      tamano = np.shape(A)\n",
        "      n = tamano[0]\n",
        "      identidad = np.identity(n)\n",
        "\n",
        "\n",
        "      AB = np.concatenate((A,identidad),axis=1)\n",
        "      AB0 = np.copy(AB)\n",
        "\n",
        "\n",
        "      tamano = np.shape(AB)\n",
        "      n = tamano[0]\n",
        "      m = tamano[1]\n",
        "\n",
        "      for i in range(0,n-1,1):\n",
        "          columna = abs(AB[i:,i])\n",
        "          dondemax = np.argmax(columna)\n",
        "\n",
        "          if (dondemax !=0):\n",
        "          \n",
        "              temporal = np.copy(AB[i,:])\n",
        "              AB[i,:] = AB[dondemax+i,:]\n",
        "              AB[dondemax+i,:] = temporal\n",
        "      AB1 = np.copy(AB)\n",
        "\n",
        "\n",
        "      for i in range(0,n-1,1):\n",
        "          pivote = AB[i,i]\n",
        "          adelante = i+1\n",
        "          for k in range(adelante,n,1):\n",
        "              factor = AB[k,i]/pivote\n",
        "              AB[k,:] = AB[k,:] - AB[i,:]*factor\n",
        "      AB2 = np.copy(AB)\n",
        "\n",
        "\n",
        "      ultfila = n-1\n",
        "      ultcolumna = m-1\n",
        "      for i in range(ultfila,0-1,-1):\n",
        "          pivote = AB[i,i]\n",
        "          atras = i-1 \n",
        "          for k in range(atras,0-1,-1):\n",
        "              factor = AB[k,i]/pivote\n",
        "              AB[k,:] = AB[k,:] - AB[i,:]*factor\n",
        "        \n",
        "          AB[i,:] = AB[i,:]/AB[i,i]\n",
        "\n",
        "      inversa = np.copy(AB[:,n:])\n",
        "      return inversa\n",
        "\n",
        "\n",
        "\n",
        "# SALIDA\n",
        "print(gaussjordan(A))\n",
        "print(\"\\n\")\n",
        "print(gaussjordan(B))"
      ]
    }
  ]
}